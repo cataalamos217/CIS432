{
 "cells": [
  {
   "cell_type": "code",
   "execution_count": null,
   "id": "906910b9-ec45-4a1f-8331-0daf34a11f8e",
   "metadata": {},
   "outputs": [],
   "source": []
  }
 ],
 "metadata": {
  "kernelspec": {
   "display_name": "",
   "name": ""
  },
  "language_info": {
   "name": ""
  }
 },
 "nbformat": 4,
 "nbformat_minor": 5
}
